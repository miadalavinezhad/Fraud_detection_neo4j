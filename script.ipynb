{
 "cells": [
  {
   "cell_type": "markdown",
   "id": "4f0060f1-a751-4843-8f6a-9dcdd69a4955",
   "metadata": {},
   "source": [
    "# Fraud Detection Project"
   ]
  },
  {
   "cell_type": "code",
   "execution_count": 1,
   "id": "b294b487-1b3d-4e71-8b3f-68a413f48b0a",
   "metadata": {},
   "outputs": [],
   "source": [
    "import pandas as pd\n",
    "import numpy as np\n",
    "from datetime import datetime\n",
    "from neo4j import GraphDatabase\n",
    "import time"
   ]
  },
  {
   "cell_type": "code",
   "execution_count": 2,
   "id": "31ec21f1-06d4-4a70-a2d7-a6ae3282553a",
   "metadata": {},
   "outputs": [],
   "source": [
    "URI = \"bolt://localhost:7687/\"\n",
    "AUTH = (\"neo4j\", \"12345678\")"
   ]
  },
  {
   "cell_type": "markdown",
   "id": "567f9a68-4d22-457c-aaef-ed95b35a80c8",
   "metadata": {
    "jp-MarkdownHeadingCollapsed": true
   },
   "source": [
    "## 50MB Dataset"
   ]
  },
  {
   "cell_type": "code",
   "execution_count": 33,
   "id": "5142aece-cc95-42ae-9253-3e68ac114fc8",
   "metadata": {},
   "outputs": [],
   "source": [
    "# Customer 50MB\n",
    "load_customer = \"\"\"\n",
    "    LOAD CSV WITH HEADERS\n",
    "        FROM 'https://media.githubusercontent.com/media/miadalavinezhad/Fraud_detection_neo4j/main/new_datasets/data_sets_50/customer.csv' AS row\n",
    "    CALL {\n",
    "    WITH row\n",
    "    CREATE (c:Customer {customer_id: row.CUSTOMER_ID, \n",
    "                        x_customer_id: row.x_customer_id, \n",
    "                        y_customer_id:  row.y_customer_id, \n",
    "                        mean_amount: row.mean_amount, \n",
    "                        std_amount: row.std_amount, \n",
    "                        mean_nb_tx_per_day: row.mean_nb_tx_per_day, \n",
    "                        available_terminals: row.available_terminals, \n",
    "                        nb_terminals: row.nb_terminals})\n",
    "    } IN TRANSACTIONS OF 200 ROWS\n",
    "    \n",
    "\"\"\""
   ]
  },
  {
   "cell_type": "code",
   "execution_count": 34,
   "id": "0b8f766c-858b-4e99-9b4c-1430df930c11",
   "metadata": {},
   "outputs": [],
   "source": [
    "# Terminal\n",
    "load_terminal = \"\"\"\n",
    "        LOAD CSV WITH HEADERS\n",
    "            FROM 'https://media.githubusercontent.com/media/miadalavinezhad/Fraud_detection_neo4j/main/new_datasets/data_sets_50/terminal.csv' AS row\n",
    "        CALL {\n",
    "        WITH row\n",
    "        CREATE (t:Terminal {terminal_id: row.TERMINAL_ID, \n",
    "                x_terminal_id: row.x_terminal_id, y_terminal_id: row.y_terminal_id})\n",
    "        } IN TRANSACTIONS OF 200 ROWS\n",
    "\"\"\""
   ]
  },
  {
   "cell_type": "code",
   "execution_count": 35,
   "id": "e0038a1a",
   "metadata": {},
   "outputs": [],
   "source": [
    "load_transaction = \"\"\"\n",
    "        LOAD CSV WITH HEADERS\n",
    "            FROM 'https://media.githubusercontent.com/media/miadalavinezhad/Fraud_detection_neo4j/main/new_datasets/data_sets_50/transaction.csv' AS row\n",
    "        CALL {\n",
    "        WITH row\n",
    "        MATCH (c:Customer {customer_id: row.CUSTOMER_ID})\n",
    "        MATCH (t:Terminal {terminal_id: row.TERMINAL_ID})\n",
    "        CREATE (c)-[:MADE]->(tx:Transaction {transaction_id: row.TRANSACTION_ID, \n",
    "                                            transaction_datetime: row.TX_DATETIME, \n",
    "                                            transaction_amount: row.TX_AMOUNT})\n",
    "        CREATE (t)-[:PROCESS]->(tx)\n",
    "        CREATE (c)-[:USE]->(t)\n",
    "        } IN TRANSACTIONS OF 500 ROWS\n",
    "\"\"\""
   ]
  },
  {
   "cell_type": "markdown",
   "id": "2f97ceb6-079f-49fa-9ac8-3b73df8b8278",
   "metadata": {
    "jp-MarkdownHeadingCollapsed": true
   },
   "source": [
    "## 100MB Dataset"
   ]
  },
  {
   "cell_type": "code",
   "execution_count": 121,
   "id": "75095bf8-7666-4d60-82a5-82c9effdb993",
   "metadata": {},
   "outputs": [],
   "source": [
    "# Customer 100MB\n",
    "load_customer = \"\"\"\n",
    "    LOAD CSV WITH HEADERS\n",
    "        FROM 'https://media.githubusercontent.com/media/miadalavinezhad/Fraud_detection_neo4j/main/new_datasets/data_sets_100/customer.csv' AS row\n",
    "    CALL {\n",
    "    WITH row\n",
    "    CREATE (c:Customer {customer_id: row.CUSTOMER_ID, \n",
    "                        x_customer_id: row.x_customer_id, \n",
    "                        y_customer_id:  row.y_customer_id, \n",
    "                        mean_amount: row.mean_amount, \n",
    "                        std_amount: row.std_amount, \n",
    "                        mean_nb_tx_per_day: row.mean_nb_tx_per_day, \n",
    "                        available_terminals: row.available_terminals, \n",
    "                        nb_terminals: row.nb_terminals})\n",
    "    } IN TRANSACTIONS OF 200 ROWS\n",
    "    \n",
    "\"\"\""
   ]
  },
  {
   "cell_type": "code",
   "execution_count": 122,
   "id": "aba7b0b4-bcf8-4fcf-b95d-3a77398f0ab5",
   "metadata": {},
   "outputs": [],
   "source": [
    "# Terminal 100MB\n",
    "load_terminal = \"\"\"\n",
    "        LOAD CSV WITH HEADERS\n",
    "            FROM 'https://media.githubusercontent.com/media/miadalavinezhad/Fraud_detection_neo4j/main/new_datasets/data_sets_100/terminal.csv' AS row\n",
    "        CALL {\n",
    "        WITH row\n",
    "        CREATE (t:Terminal {terminal_id: row.TERMINAL_ID, \n",
    "                x_terminal_id: row.x_terminal_id, y_terminal_id: row.y_terminal_id})\n",
    "        } IN TRANSACTIONS OF 200 ROWS\n",
    "\"\"\""
   ]
  },
  {
   "cell_type": "code",
   "execution_count": 123,
   "id": "fd9aa5bd-88e7-4b93-a714-50ab7c4be088",
   "metadata": {},
   "outputs": [],
   "source": [
    "load_transaction = \"\"\"\n",
    "        LOAD CSV WITH HEADERS\n",
    "            FROM 'https://media.githubusercontent.com/media/miadalavinezhad/Fraud_detection_neo4j/main/new_datasets/data_sets_100/transaction.csv' AS row\n",
    "        CALL {\n",
    "        WITH row\n",
    "        MATCH (c:Customer {customer_id: row.CUSTOMER_ID})\n",
    "        MATCH (t:Terminal {terminal_id: row.TERMINAL_ID})\n",
    "        CREATE (c)-[:MADE]->(tx:Transaction {transaction_id: row.TRANSACTION_ID, \n",
    "                                            transaction_datetime: row.TX_DATETIME, \n",
    "                                            transaction_amount: row.TX_AMOUNT})\n",
    "        CREATE (t)-[:PROCESS]->(tx)\n",
    "        CREATE (c)-[:USE]->(t)\n",
    "        } IN TRANSACTIONS OF 500 ROWS\n",
    "\"\"\""
   ]
  },
  {
   "cell_type": "markdown",
   "id": "65c7d1ca-057d-48e9-bc4e-5f2cce2cb1fc",
   "metadata": {
    "jp-MarkdownHeadingCollapsed": true
   },
   "source": [
    "## 200MB Dataset"
   ]
  },
  {
   "cell_type": "code",
   "execution_count": 133,
   "id": "f270f44b-7ec6-4bf6-b403-69efae79d4c1",
   "metadata": {},
   "outputs": [],
   "source": [
    "# Customer 200MB\n",
    "load_customer = \"\"\"\n",
    "    LOAD CSV WITH HEADERS\n",
    "        FROM 'https://media.githubusercontent.com/media/miadalavinezhad/Fraud_detection_neo4j/main/new_datasets/data_sets_200/customer.csv' AS row\n",
    "    CALL {\n",
    "    WITH row\n",
    "    CREATE (c:Customer {customer_id: row.CUSTOMER_ID, \n",
    "                        x_customer_id: row.x_customer_id, \n",
    "                        y_customer_id:  row.y_customer_id, \n",
    "                        mean_amount: row.mean_amount, \n",
    "                        std_amount: row.std_amount, \n",
    "                        mean_nb_tx_per_day: row.mean_nb_tx_per_day, \n",
    "                        available_terminals: row.available_terminals, \n",
    "                        nb_terminals: row.nb_terminals})\n",
    "    } IN TRANSACTIONS OF 200 ROWS\n",
    "    \n",
    "\"\"\""
   ]
  },
  {
   "cell_type": "code",
   "execution_count": 134,
   "id": "a399e947-65cb-4b27-8c8d-b18e11f82b1f",
   "metadata": {},
   "outputs": [],
   "source": [
    "# Terminal 200MB\n",
    "load_terminal = \"\"\"\n",
    "        LOAD CSV WITH HEADERS\n",
    "            FROM 'https://media.githubusercontent.com/media/miadalavinezhad/Fraud_detection_neo4j/main/new_datasets/data_sets_200/terminal.csv' AS row\n",
    "        CALL {\n",
    "        WITH row\n",
    "        CREATE (t:Terminal {terminal_id: row.TERMINAL_ID, \n",
    "                x_terminal_id: row.x_terminal_id, y_terminal_id: row.y_terminal_id})\n",
    "        } IN TRANSACTIONS OF 200 ROWS\n",
    "\"\"\""
   ]
  },
  {
   "cell_type": "code",
   "execution_count": 135,
   "id": "9c4e2c55-d56d-4631-a3f0-ce6df5de2907",
   "metadata": {},
   "outputs": [],
   "source": [
    "load_transaction = \"\"\"\n",
    "        LOAD CSV WITH HEADERS\n",
    "            FROM 'https://media.githubusercontent.com/media/miadalavinezhad/Fraud_detection_neo4j/main/new_datasets/data_sets_200/transaction.csv' AS row\n",
    "        CALL {\n",
    "        WITH row\n",
    "        MATCH (c:Customer {customer_id: row.CUSTOMER_ID})\n",
    "        MATCH (t:Terminal {terminal_id: row.TERMINAL_ID})\n",
    "        CREATE (c)-[:MADE]->(tx:Transaction {transaction_id: row.TRANSACTION_ID, \n",
    "                                            transaction_datetime: row.TX_DATETIME, \n",
    "                                            transaction_amount: row.TX_AMOUNT})\n",
    "        CREATE (t)-[:PROCESS]->(tx)\n",
    "        CREATE (c)-[:USE]->(t)\n",
    "        } IN TRANSACTIONS OF 500 ROWS\n",
    "\"\"\""
   ]
  },
  {
   "cell_type": "markdown",
   "id": "c1870104-b436-4596-88c9-2ff941a402e4",
   "metadata": {
    "jp-MarkdownHeadingCollapsed": true
   },
   "source": [
    "## Constrains"
   ]
  },
  {
   "cell_type": "code",
   "execution_count": 136,
   "id": "2b6ac016",
   "metadata": {},
   "outputs": [],
   "source": [
    "# Adding unique constraint to ID\n",
    "customer_constraint = \"\"\"\n",
    "                        CREATE CONSTRAINT customer IF NOT EXISTS\n",
    "                        FOR (c:Customer) REQUIRE c.customer_id IS UNIQUE\n",
    "\"\"\"\n",
    "terminal_constraint = \"\"\"\n",
    "                        CREATE CONSTRAINT terminal IF NOT EXISTS\n",
    "                        FOR (t:Terminal) REQUIRE t.terminal_id IS UNIQUE\n",
    "\"\"\"\n",
    "transaction_constraint = \"\"\"\n",
    "                        CREATE CONSTRAINT transaction IF NOT EXISTS\n",
    "                        FOR (tx:Transaction) REQUIRE tx.transaction_id IS UNIQUE\n",
    "\"\"\""
   ]
  },
  {
   "cell_type": "markdown",
   "id": "8bab0e60-9aa2-43f1-8cf4-bc764fb5352b",
   "metadata": {
    "jp-MarkdownHeadingCollapsed": true
   },
   "source": [
    "## Indexing"
   ]
  },
  {
   "cell_type": "code",
   "execution_count": 1,
   "id": "b0168dbb-a624-4362-beb3-fef807467574",
   "metadata": {},
   "outputs": [],
   "source": [
    "indexes = \"\"\"\n",
    "        CREATE INDEX index_customer IF NOT EXISTS \n",
    "        FOR (c:Customer) ON (c.customer_id)\n",
    "        \n",
    "        CREATE INDEX index_terminal IF NOT EXISTS \n",
    "        FOR (t:Terminal) ON (t.terminal_id)\n",
    "        \n",
    "        CREATE INDEX index_transaction IF NOT EXISTS \n",
    "        FOR (tr:Transaction) ON (tr.transaction_id)\n",
    "\"\"\""
   ]
  },
  {
   "cell_type": "markdown",
   "id": "e6ef3a7b-2ea2-449b-a20d-9ccc7546fca0",
   "metadata": {},
   "source": [
    "## Set DB driver"
   ]
  },
  {
   "cell_type": "code",
   "execution_count": 137,
   "id": "ca6a4c79-0d3f-4920-84e9-2d7ba16f4c4a",
   "metadata": {},
   "outputs": [],
   "source": [
    "# Session\n",
    "with GraphDatabase.driver(URI, auth=AUTH) as driver:\n",
    "    driver.verify_connectivity()\n",
    "\n",
    "    with driver.session() as session:\n",
    "        session.run(load_customer).data()\n",
    "        session.run(customer_constraint)\n",
    "\n",
    "        session.run(load_terminal).data()\n",
    "        session.run(terminal_constraint)\n",
    "        \n",
    "        session.run(load_transaction).data()\n",
    "        session.run(transaction_constraint)\n",
    "\n",
    "        session.run(indexes)\n",
    "        "
   ]
  },
  {
   "cell_type": "markdown",
   "id": "559369ad-6757-4fea-908b-ebf18c73ffa2",
   "metadata": {},
   "source": [
    "## Scripts of operations"
   ]
  },
  {
   "cell_type": "code",
   "execution_count": 4,
   "id": "52d82556-f3d5-4dac-a374-6c2c15500b45",
   "metadata": {},
   "outputs": [],
   "source": [
    "query_a = \"\"\"\n",
    "            MATCH (c:Customer)-[:MADE]->(tr:Transaction)\n",
    "            WITH c, datetime(tr.transaction_datetime) AS transactionDate, tr.transaction_amount AS amount\n",
    "            ORDER BY transactionDate DESC\n",
    "            WITH c, COLLECT(transactionDate)[0] AS lastTransactionDate \n",
    "            WITH c, lastTransactionDate.month AS lastMonth\n",
    "            \n",
    "            MATCH (c)-[:MADE]->(tr:Transaction)\n",
    "            WHERE datetime(tr.transaction_datetime).month = lastMonth\n",
    "            WITH c, lastMonth, SUM(toInteger(tr.transaction_amount)) AS lastMonthSpending, COUNT(tr) as lastMonthFrequency\n",
    "            \n",
    "            MATCH (c)-[:MADE]->(tr:Transaction)\n",
    "            WHERE datetime(tr.transaction_datetime).month < lastMonth\n",
    "            WITH c, lastMonthSpending, lastMonthFrequency, (SUM(toInteger(tr.transaction_amount)) / 5) AS usualSpending, (COUNT(tr) / 5) AS usualFrequency\n",
    "            \n",
    "            WHERE lastMonthSpending < usualSpending AND lastMonthFrequency < usualFrequency\n",
    "            RETURN c.customer_id AS customer_id, lastMonthSpending, usualSpending, lastMonthFrequency, usualFrequency;\n",
    "\"\"\"\n",
    "\n",
    "query_b = \"\"\"\n",
    "            MATCH (t:Terminal)-[:PROCESS]->(tr:Transaction)\n",
    "            WITH t, datetime(tr.transaction_datetime) AS transactionDate, tr.transaction_amount AS amount\n",
    "            ORDER BY transactionDate DESC \n",
    "            WITH t, COLLECT(transactionDate)[0] AS lastTransactionDate\n",
    "            WITH t, lastTransactionDate.month AS lastMonth\n",
    "\n",
    "            MATCH (t)-[:PROCESS]->(tr:Transaction)\n",
    "            WHERE datetime(tr.transaction_datetime).month = lastMonth\n",
    "            WITH t, MAX(tr.transaction_amount) AS maxImport, lastMonth\n",
    "\n",
    "            MATCH (t)-[:PROCESS]->(tr:Transaction)\n",
    "            WHERE datetime(tr.transaction_datetime).month = lastMonth\n",
    "            AND toInteger(tr.transaction_amount) > toInteger(maxImport) * 1.2\n",
    "            RETURN t.terminal_id AS terminalId, tr.transaction_id AS transactionId, tr.transaction_amount AS transactionAmount , maxImport, 1.2 * toInteger(maxImport) AS threshold;\n",
    "\n",
    "\"\"\"\n",
    "\n",
    "query_c = \"\"\"\n",
    "            MATCH p=(u1:Customer {customer_id:\"0\"})-[:USE*4]-(u2:Customer) \n",
    "            WHERE u1 <> u2 \n",
    "            RETURN distinct u1.customer_id, u2.customer_id\n",
    "    \"\"\""
   ]
  },
  {
   "cell_type": "code",
   "execution_count": 9,
   "id": "da6de3eb-f462-4da4-a929-88d484027d92",
   "metadata": {},
   "outputs": [
    {
     "name": "stdout",
     "output_type": "stream",
     "text": [
      "6030\n",
      "query a time: 73.22882628440857\n"
     ]
    }
   ],
   "source": [
    "with GraphDatabase.driver(URI, auth=AUTH) as driver:\n",
    "    driver.verify_connectivity()\n",
    "\n",
    "    with driver.session() as session:\n",
    "        start = time.time()\n",
    "        result_a = session.run(query_a)\n",
    "        print(len([row.data() for row in result_a]))\n",
    "        print('query a time:', time.time() - start)"
   ]
  },
  {
   "cell_type": "code",
   "execution_count": 10,
   "id": "6d4574bb-805a-4aaf-b1fc-65d1240a6ca2",
   "metadata": {},
   "outputs": [
    {
     "name": "stdout",
     "output_type": "stream",
     "text": [
      "51792\n",
      "query b time: 86.1496913433075\n"
     ]
    }
   ],
   "source": [
    "# Session\n",
    "with GraphDatabase.driver(URI, auth=AUTH) as driver:\n",
    "    driver.verify_connectivity()\n",
    "\n",
    "    with driver.session() as session:\n",
    "        start = time.time()\n",
    "        result_b = session.run(query_b)\n",
    "        print(len([row.data() for row in result_b]))\n",
    "        print('query b time:',time.time() - start)"
   ]
  },
  {
   "cell_type": "code",
   "execution_count": 11,
   "id": "2f8252d2-4f3c-43eb-97ad-e1783876d1e9",
   "metadata": {},
   "outputs": [
    {
     "name": "stdout",
     "output_type": "stream",
     "text": [
      "1004\n",
      "query c time: 152.69852256774902\n"
     ]
    }
   ],
   "source": [
    "with GraphDatabase.driver(URI, auth=AUTH) as driver:\n",
    "    driver.verify_connectivity()\n",
    "\n",
    "    with driver.session() as session:\n",
    "        start = time.time()\n",
    "        result_c = session.run(query_c)\n",
    "        print(len([row.data() for row in result_c]))\n",
    "        print('query c time:',time.time() - start)"
   ]
  },
  {
   "cell_type": "markdown",
   "id": "392bf13d-abf3-4884-a6b3-1efbbe3f7067",
   "metadata": {},
   "source": [
    "### Extending the Database"
   ]
  },
  {
   "cell_type": "code",
   "execution_count": 5,
   "id": "c67df18e-c48d-4d13-9857-d33355f9aeb6",
   "metadata": {},
   "outputs": [],
   "source": [
    "# query d.i.1\n",
    "def add_time_period(session):\n",
    "    query = \"\"\"\n",
    "            MATCH (tr:Transaction)\n",
    "            CALL {\n",
    "            WITH tr\n",
    "            WITH\n",
    "            CASE\n",
    "                WHEN datetime(tr.transaction_datetime).hour > 5 AND datetime(tr.transaction_datetime).hour <= 12 THEN 'Morning'\n",
    "                WHEN datetime(tr.transaction_datetime).hour > 12 AND datetime(tr.transaction_datetime).hour <= 17 THEN 'Afternoon'\n",
    "                WHEN datetime(tr.transaction_datetime).hour > 17 AND datetime(tr.transaction_datetime).hour <= 21 THEN 'Evening'\n",
    "                ELSE 'Night'\n",
    "            END AS day_period, tr\n",
    "    \n",
    "            SET tr.transaction_period = day_period\n",
    "            } IN TRANSACTIONS OF 500 ROWS\n",
    "    \"\"\"\n",
    "    session.run(query)\n",
    "\n",
    "# query d.i.2\n",
    "def add_product_category(session):\n",
    "    query = \"\"\"\n",
    "            MATCH (tr:Transaction)\n",
    "            CALL {\n",
    "            WITH tr\n",
    "            WITH\n",
    "            CASE\n",
    "                WHEN tr.transaction_amount >= 0 AND tr.transaction_amount < 25 THEN 'Food'\n",
    "                WHEN tr.transaction_amount >= 25 AND tr.transaction_amount < 50 THEN 'Clothing'\n",
    "                WHEN tr.transaction_amount >= 50 AND tr.transaction_amount < 55 THEN 'Consumable'\n",
    "                ELSE 'High-Tech'\n",
    "            END AS category, tr\n",
    "    \n",
    "            SET tr.transaction_category = category\n",
    "            } IN TRANSACTIONS OF 500 ROWS \n",
    "    \"\"\"\n",
    "    \n",
    "    session.run(query)\n",
    "\n",
    "# query d.i.3\n",
    "def add_security(session):\n",
    "    query = \"\"\"\n",
    "            MATCH (tr:Transaction)\n",
    "            CALL {\n",
    "            WITH tr\n",
    "            SET tr.transaction_security = FLOOR(rand() * 5) + 1\n",
    "            } IN TRANSACTIONS OF 500 ROWS\n",
    "    \"\"\"\n",
    "    \n",
    "    session.run(query)\n",
    "\n",
    "# query d.ii\n",
    "# def buying_friends(session):\n",
    "#     query = \"\"\"\n",
    "#             MATCH (c1:Customer)-[:MADE]-(tr1:Transaction)-[:PROCESS]-(t:Terminal),\n",
    "#                   (c2:Customer)-[:MADE]-(tr2:Transaction)-[:PROCESS]-(t)\n",
    "#             WHERE c1 <> c2\n",
    "#             WITH c1, c2, COUNT(tr1) AS c1_transactions, COUNT(tr2) AS c2_transactions, \n",
    "#             AVG(tr1.transaction_security) AS c1_avg_security, AVG(tr2.transaction_security) AS c2_avg_security\n",
    "#             WHERE c1_transactions > 3 AND c2_transactions > 3 AND ABS(c1_avg_security - c2_avg_security) < 1\n",
    "            \n",
    "#             MERGE (c1)-[:BUYING_FRIENDS]->(c2)\n",
    "#     \"\"\"\n",
    "    \n",
    "#     session.run(query)\n",
    "\n",
    "def buying_friends(session):\n",
    "    query = \"\"\"\n",
    "            CALL apoc.periodic.iterate(\n",
    "            \"MATCH (c1:Customer)-[:MADE]-(tr1:Transaction)-[:PROCESS]-(t:Terminal), \n",
    "                    (c2:Customer)-[:MADE]-(tr2:Transaction)-[:PROCESS]-(t)\n",
    "            WHERE c1 <> c2\n",
    "            RETURN c1, c2, tr1, tr2\",\n",
    "            \"WITH c1, c2, COUNT(tr1) AS c1_transactions, COUNT(tr2) AS c2_transactions, \n",
    "            AVG(tr1.transaction_security) AS c1_avg_security, AVG(tr2.transaction_security) AS c2_avg_security\n",
    "            WHERE c1_transactions > 3 AND c2_transactions > 3 AND ABS(c1_avg_security - c2_avg_security) < 1\n",
    "            MERGE (c1)-[:BUYING_FRIENDS]->(c2)\",\n",
    "            {batchSize: 3500, iterateList: true}\n",
    "            );\n",
    "    \"\"\"\n",
    "\n",
    "    session.run(query)"
   ]
  },
  {
   "cell_type": "code",
   "execution_count": 13,
   "id": "64681ade-02f8-4429-9620-6b486f502f38",
   "metadata": {},
   "outputs": [
    {
     "name": "stdout",
     "output_type": "stream",
     "text": [
      "332.6114399433136\n"
     ]
    }
   ],
   "source": [
    "# Session query d.i.1\n",
    "with GraphDatabase.driver(URI, auth=AUTH) as driver:\n",
    "    driver.verify_connectivity()\n",
    "    with driver.session() as session:\n",
    "        start = time.time()\n",
    "        add_time_period(session)\n",
    "        print(time.time() - start)"
   ]
  },
  {
   "cell_type": "code",
   "execution_count": 14,
   "id": "7727a754-1d20-4926-bfaf-f069ecf65c5a",
   "metadata": {},
   "outputs": [
    {
     "name": "stdout",
     "output_type": "stream",
     "text": [
      "276.60847449302673\n"
     ]
    }
   ],
   "source": [
    "# Session query d.i.2\n",
    "with GraphDatabase.driver(URI, auth=AUTH) as driver:\n",
    "    driver.verify_connectivity()\n",
    "    with driver.session() as session:\n",
    "        start = time.time()\n",
    "        add_product_category(session)\n",
    "        print(time.time() - start)"
   ]
  },
  {
   "cell_type": "code",
   "execution_count": 15,
   "id": "4a316923-7ef1-4109-8a80-5d0aa814d47f",
   "metadata": {},
   "outputs": [
    {
     "name": "stdout",
     "output_type": "stream",
     "text": [
      "251.35653471946716\n"
     ]
    }
   ],
   "source": [
    "# Session query d.i.3\n",
    "with GraphDatabase.driver(URI, auth=AUTH) as driver:\n",
    "    driver.verify_connectivity()\n",
    "    with driver.session() as session:\n",
    "        start = time.time()\n",
    "        add_security(session)\n",
    "        print(time.time() - start)"
   ]
  },
  {
   "cell_type": "code",
   "execution_count": 4,
   "id": "e556c967-ce1a-40a1-a9c1-f1b0ad14bdcc",
   "metadata": {},
   "outputs": [
    {
     "name": "stdout",
     "output_type": "stream",
     "text": [
      "0.0015587806701660156\n"
     ]
    },
    {
     "ename": "KeyboardInterrupt",
     "evalue": "",
     "output_type": "error",
     "traceback": [
      "\u001b[1;31m---------------------------------------------------------------------------\u001b[0m",
      "\u001b[1;31mKeyboardInterrupt\u001b[0m                         Traceback (most recent call last)",
      "Cell \u001b[1;32mIn[4], line 4\u001b[0m\n\u001b[0;32m      2\u001b[0m \u001b[39mwith\u001b[39;00m GraphDatabase\u001b[39m.\u001b[39mdriver(URI, auth\u001b[39m=\u001b[39mAUTH) \u001b[39mas\u001b[39;00m driver:\n\u001b[0;32m      3\u001b[0m     driver\u001b[39m.\u001b[39mverify_connectivity()\n\u001b[1;32m----> 4\u001b[0m     \u001b[39mwith\u001b[39;49;00m driver\u001b[39m.\u001b[39;49msession() \u001b[39mas\u001b[39;49;00m session:\n\u001b[0;32m      5\u001b[0m         start \u001b[39m=\u001b[39;49m time\u001b[39m.\u001b[39;49mtime()\n\u001b[0;32m      6\u001b[0m         buying_friends(session) \n",
      "File \u001b[1;32mc:\\Users\\Asus\\AppData\\Local\\Programs\\Python\\Python312\\Lib\\site-packages\\neo4j\\_sync\\work\\session.py:124\u001b[0m, in \u001b[0;36mSession.__exit__\u001b[1;34m(self, exception_type, exception_value, traceback)\u001b[0m\n\u001b[0;32m    122\u001b[0m         \u001b[39mreturn\u001b[39;00m\n\u001b[0;32m    123\u001b[0m     \u001b[39mself\u001b[39m\u001b[39m.\u001b[39m_state_failed \u001b[39m=\u001b[39m \u001b[39mTrue\u001b[39;00m\n\u001b[1;32m--> 124\u001b[0m \u001b[39mself\u001b[39;49m\u001b[39m.\u001b[39;49mclose()\n",
      "File \u001b[1;32mc:\\Users\\Asus\\AppData\\Local\\Programs\\Python\\Python312\\Lib\\site-packages\\neo4j\\_sync\\work\\session.py:195\u001b[0m, in \u001b[0;36mSession.close\u001b[1;34m(self)\u001b[0m\n\u001b[0;32m    193\u001b[0m \u001b[39mif\u001b[39;00m \u001b[39mself\u001b[39m\u001b[39m.\u001b[39m_state_failed \u001b[39mis\u001b[39;00m \u001b[39mFalse\u001b[39;00m:\n\u001b[0;32m    194\u001b[0m     \u001b[39mtry\u001b[39;00m:\n\u001b[1;32m--> 195\u001b[0m         \u001b[39mself\u001b[39;49m\u001b[39m.\u001b[39;49m_auto_result\u001b[39m.\u001b[39;49mconsume()\n\u001b[0;32m    196\u001b[0m         \u001b[39mself\u001b[39m\u001b[39m.\u001b[39m_update_bookmark(\n\u001b[0;32m    197\u001b[0m             \u001b[39mself\u001b[39m\u001b[39m.\u001b[39m_auto_result\u001b[39m.\u001b[39m_bookmark\n\u001b[0;32m    198\u001b[0m         )\n\u001b[0;32m    199\u001b[0m     \u001b[39mexcept\u001b[39;00m \u001b[39mException\u001b[39;00m \u001b[39mas\u001b[39;00m error:\n\u001b[0;32m    200\u001b[0m         \u001b[39m# TODO: Investigate potential non graceful close states\u001b[39;00m\n",
      "File \u001b[1;32mc:\\Users\\Asus\\AppData\\Local\\Programs\\Python\\Python312\\Lib\\site-packages\\neo4j\\_sync\\work\\result.py:434\u001b[0m, in \u001b[0;36mResult.consume\u001b[1;34m(self)\u001b[0m\n\u001b[0;32m    431\u001b[0m \u001b[39mif\u001b[39;00m \u001b[39mself\u001b[39m\u001b[39m.\u001b[39m_consumed:\n\u001b[0;32m    432\u001b[0m     \u001b[39mreturn\u001b[39;00m \u001b[39mself\u001b[39m\u001b[39m.\u001b[39m_obtain_summary()\n\u001b[1;32m--> 434\u001b[0m \u001b[39mself\u001b[39;49m\u001b[39m.\u001b[39;49m_exhaust()\n\u001b[0;32m    435\u001b[0m summary \u001b[39m=\u001b[39m \u001b[39mself\u001b[39m\u001b[39m.\u001b[39m_obtain_summary()\n\u001b[0;32m    436\u001b[0m \u001b[39mself\u001b[39m\u001b[39m.\u001b[39m_consumed \u001b[39m=\u001b[39m \u001b[39mTrue\u001b[39;00m\n",
      "File \u001b[1;32mc:\\Users\\Asus\\AppData\\Local\\Programs\\Python\\Python312\\Lib\\site-packages\\neo4j\\_sync\\work\\result.py:365\u001b[0m, in \u001b[0;36mResult._exhaust\u001b[1;34m(self)\u001b[0m\n\u001b[0;32m    363\u001b[0m \u001b[39mself\u001b[39m\u001b[39m.\u001b[39m_discarding \u001b[39m=\u001b[39m \u001b[39mTrue\u001b[39;00m\n\u001b[0;32m    364\u001b[0m \u001b[39mself\u001b[39m\u001b[39m.\u001b[39m_record_buffer\u001b[39m.\u001b[39mclear()\n\u001b[1;32m--> 365\u001b[0m \u001b[39mfor\u001b[39;49;00m _ \u001b[39min\u001b[39;49;00m \u001b[39mself\u001b[39;49m:\n\u001b[0;32m    366\u001b[0m     \u001b[39mpass\u001b[39;49;00m\n",
      "File \u001b[1;32mc:\\Users\\Asus\\AppData\\Local\\Programs\\Python\\Python312\\Lib\\site-packages\\neo4j\\_sync\\work\\result.py:270\u001b[0m, in \u001b[0;36mResult.__iter__\u001b[1;34m(self)\u001b[0m\n\u001b[0;32m    268\u001b[0m     \u001b[39myield\u001b[39;00m \u001b[39mself\u001b[39m\u001b[39m.\u001b[39m_record_buffer\u001b[39m.\u001b[39mpopleft()\n\u001b[0;32m    269\u001b[0m \u001b[39melif\u001b[39;00m \u001b[39mself\u001b[39m\u001b[39m.\u001b[39m_streaming:\n\u001b[1;32m--> 270\u001b[0m     \u001b[39mself\u001b[39;49m\u001b[39m.\u001b[39;49m_connection\u001b[39m.\u001b[39;49mfetch_message()\n\u001b[0;32m    271\u001b[0m \u001b[39melif\u001b[39;00m \u001b[39mself\u001b[39m\u001b[39m.\u001b[39m_discarding:\n\u001b[0;32m    272\u001b[0m     \u001b[39mself\u001b[39m\u001b[39m.\u001b[39m_discard()\n",
      "File \u001b[1;32mc:\\Users\\Asus\\AppData\\Local\\Programs\\Python\\Python312\\Lib\\site-packages\\neo4j\\_sync\\io\\_common.py:178\u001b[0m, in \u001b[0;36mConnectionErrorHandler.__getattr__.<locals>.outer.<locals>.inner\u001b[1;34m(*args, **kwargs)\u001b[0m\n\u001b[0;32m    176\u001b[0m \u001b[39mdef\u001b[39;00m \u001b[39minner\u001b[39m(\u001b[39m*\u001b[39margs, \u001b[39m*\u001b[39m\u001b[39m*\u001b[39mkwargs):\n\u001b[0;32m    177\u001b[0m     \u001b[39mtry\u001b[39;00m:\n\u001b[1;32m--> 178\u001b[0m         func(\u001b[39m*\u001b[39;49margs, \u001b[39m*\u001b[39;49m\u001b[39m*\u001b[39;49mkwargs)\n\u001b[0;32m    179\u001b[0m     \u001b[39mexcept\u001b[39;00m (Neo4jError, ServiceUnavailable, SessionExpired) \u001b[39mas\u001b[39;00m exc:\n\u001b[0;32m    180\u001b[0m         \u001b[39massert\u001b[39;00m \u001b[39mnot\u001b[39;00m asyncio\u001b[39m.\u001b[39miscoroutinefunction(\u001b[39mself\u001b[39m\u001b[39m.\u001b[39m__on_error)\n",
      "File \u001b[1;32mc:\\Users\\Asus\\AppData\\Local\\Programs\\Python\\Python312\\Lib\\site-packages\\neo4j\\_sync\\io\\_bolt.py:847\u001b[0m, in \u001b[0;36mBolt.fetch_message\u001b[1;34m(self)\u001b[0m\n\u001b[0;32m    844\u001b[0m     \u001b[39mreturn\u001b[39;00m \u001b[39m0\u001b[39m, \u001b[39m0\u001b[39m\n\u001b[0;32m    846\u001b[0m \u001b[39m# Receive exactly one message\u001b[39;00m\n\u001b[1;32m--> 847\u001b[0m tag, fields \u001b[39m=\u001b[39m \u001b[39mself\u001b[39;49m\u001b[39m.\u001b[39;49minbox\u001b[39m.\u001b[39;49mpop(\n\u001b[0;32m    848\u001b[0m     hydration_hooks\u001b[39m=\u001b[39;49m\u001b[39mself\u001b[39;49m\u001b[39m.\u001b[39;49mresponses[\u001b[39m0\u001b[39;49m]\u001b[39m.\u001b[39;49mhydration_hooks\n\u001b[0;32m    849\u001b[0m )\n\u001b[0;32m    850\u001b[0m res \u001b[39m=\u001b[39m \u001b[39mself\u001b[39m\u001b[39m.\u001b[39m_process_message(tag, fields)\n\u001b[0;32m    851\u001b[0m \u001b[39mself\u001b[39m\u001b[39m.\u001b[39midle_since \u001b[39m=\u001b[39m monotonic()\n",
      "File \u001b[1;32mc:\\Users\\Asus\\AppData\\Local\\Programs\\Python\\Python312\\Lib\\site-packages\\neo4j\\_sync\\io\\_common.py:72\u001b[0m, in \u001b[0;36mInbox.pop\u001b[1;34m(self, hydration_hooks)\u001b[0m\n\u001b[0;32m     71\u001b[0m \u001b[39mdef\u001b[39;00m \u001b[39mpop\u001b[39m(\u001b[39mself\u001b[39m, hydration_hooks):\n\u001b[1;32m---> 72\u001b[0m     \u001b[39mself\u001b[39;49m\u001b[39m.\u001b[39;49m_buffer_one_chunk()\n\u001b[0;32m     73\u001b[0m     \u001b[39mtry\u001b[39;00m:\n\u001b[0;32m     74\u001b[0m         size, tag \u001b[39m=\u001b[39m \u001b[39mself\u001b[39m\u001b[39m.\u001b[39m_unpacker\u001b[39m.\u001b[39munpack_structure_header()\n",
      "File \u001b[1;32mc:\\Users\\Asus\\AppData\\Local\\Programs\\Python\\Python312\\Lib\\site-packages\\neo4j\\_sync\\io\\_common.py:51\u001b[0m, in \u001b[0;36mInbox._buffer_one_chunk\u001b[1;34m(self)\u001b[0m\n\u001b[0;32m     48\u001b[0m \u001b[39mwhile\u001b[39;00m \u001b[39mTrue\u001b[39;00m:\n\u001b[0;32m     49\u001b[0m     \u001b[39mwhile\u001b[39;00m chunk_size \u001b[39m==\u001b[39m \u001b[39m0\u001b[39m:\n\u001b[0;32m     50\u001b[0m         \u001b[39m# Determine the chunk size and skip noop\u001b[39;00m\n\u001b[1;32m---> 51\u001b[0m         receive_into_buffer(\u001b[39mself\u001b[39;49m\u001b[39m.\u001b[39;49m_socket, \u001b[39mself\u001b[39;49m\u001b[39m.\u001b[39;49m_buffer, \u001b[39m2\u001b[39;49m)\n\u001b[0;32m     52\u001b[0m         chunk_size \u001b[39m=\u001b[39m \u001b[39mself\u001b[39m\u001b[39m.\u001b[39m_buffer\u001b[39m.\u001b[39mpop_u16()\n\u001b[0;32m     53\u001b[0m         \u001b[39mif\u001b[39;00m chunk_size \u001b[39m==\u001b[39m \u001b[39m0\u001b[39m:\n",
      "File \u001b[1;32mc:\\Users\\Asus\\AppData\\Local\\Programs\\Python\\Python312\\Lib\\site-packages\\neo4j\\_sync\\io\\_common.py:326\u001b[0m, in \u001b[0;36mreceive_into_buffer\u001b[1;34m(sock, buffer, n_bytes)\u001b[0m\n\u001b[0;32m    324\u001b[0m \u001b[39mwith\u001b[39;00m \u001b[39mmemoryview\u001b[39m(buffer\u001b[39m.\u001b[39mdata) \u001b[39mas\u001b[39;00m view:\n\u001b[0;32m    325\u001b[0m     \u001b[39mwhile\u001b[39;00m buffer\u001b[39m.\u001b[39mused \u001b[39m<\u001b[39m end:\n\u001b[1;32m--> 326\u001b[0m         n \u001b[39m=\u001b[39m sock\u001b[39m.\u001b[39;49mrecv_into(view[buffer\u001b[39m.\u001b[39;49mused:end], end \u001b[39m-\u001b[39;49m buffer\u001b[39m.\u001b[39;49mused)\n\u001b[0;32m    327\u001b[0m         \u001b[39mif\u001b[39;00m n \u001b[39m==\u001b[39m \u001b[39m0\u001b[39m:\n\u001b[0;32m    328\u001b[0m             \u001b[39mraise\u001b[39;00m \u001b[39mOSError\u001b[39;00m(\u001b[39m\"\u001b[39m\u001b[39mNo data\u001b[39m\u001b[39m\"\u001b[39m)\n",
      "File \u001b[1;32mc:\\Users\\Asus\\AppData\\Local\\Programs\\Python\\Python312\\Lib\\site-packages\\neo4j\\_async_compat\\network\\_bolt_socket.py:493\u001b[0m, in \u001b[0;36mBoltSocket.recv_into\u001b[1;34m(self, buffer, nbytes)\u001b[0m\n\u001b[0;32m    492\u001b[0m \u001b[39mdef\u001b[39;00m \u001b[39mrecv_into\u001b[39m(\u001b[39mself\u001b[39m, buffer, nbytes):\n\u001b[1;32m--> 493\u001b[0m     \u001b[39mreturn\u001b[39;00m \u001b[39mself\u001b[39;49m\u001b[39m.\u001b[39;49m_wait_for_io(\u001b[39mself\u001b[39;49m\u001b[39m.\u001b[39;49m_socket\u001b[39m.\u001b[39;49mrecv_into, buffer, nbytes)\n",
      "File \u001b[1;32mc:\\Users\\Asus\\AppData\\Local\\Programs\\Python\\Python312\\Lib\\site-packages\\neo4j\\_async_compat\\network\\_bolt_socket.py:468\u001b[0m, in \u001b[0;36mBoltSocket._wait_for_io\u001b[1;34m(self, func, *args, **kwargs)\u001b[0m\n\u001b[0;32m    466\u001b[0m \u001b[39mdef\u001b[39;00m \u001b[39m_wait_for_io\u001b[39m(\u001b[39mself\u001b[39m, func, \u001b[39m*\u001b[39margs, \u001b[39m*\u001b[39m\u001b[39m*\u001b[39mkwargs):\n\u001b[0;32m    467\u001b[0m     \u001b[39mif\u001b[39;00m \u001b[39mself\u001b[39m\u001b[39m.\u001b[39m_deadline \u001b[39mis\u001b[39;00m \u001b[39mNone\u001b[39;00m:\n\u001b[1;32m--> 468\u001b[0m         \u001b[39mreturn\u001b[39;00m func(\u001b[39m*\u001b[39;49margs, \u001b[39m*\u001b[39;49m\u001b[39m*\u001b[39;49mkwargs)\n\u001b[0;32m    469\u001b[0m     timeout \u001b[39m=\u001b[39m \u001b[39mself\u001b[39m\u001b[39m.\u001b[39m_socket\u001b[39m.\u001b[39mgettimeout()\n\u001b[0;32m    470\u001b[0m     deadline_timeout \u001b[39m=\u001b[39m \u001b[39mself\u001b[39m\u001b[39m.\u001b[39m_deadline\u001b[39m.\u001b[39mto_timeout()\n",
      "\u001b[1;31mKeyboardInterrupt\u001b[0m: "
     ]
    }
   ],
   "source": [
    "# Session query d.ii\n",
    "with GraphDatabase.driver(URI, auth=AUTH) as driver:\n",
    "    driver.verify_connectivity()\n",
    "    with driver.session() as session:\n",
    "        start = time.time()\n",
    "        buying_friends(session) \n",
    "        print(time.time() - start)"
   ]
  },
  {
   "cell_type": "code",
   "execution_count": null,
   "id": "b5ed12b6-068a-436c-bc8a-195653b80984",
   "metadata": {},
   "outputs": [],
   "source": [
    "query_e = \"\"\"\n",
    "            MATCH (tr:Transaction) \n",
    "            WITH tr.transaction_period AS period, COUNT(tr) AS totalTransactions, \n",
    "            AVG(CASE WHEN tr.transaction_security < 3 THEN 1.0 ELSE 0.0 END) AS avgFraudulent\n",
    "            RETURN period, totalTransactions, avgFraudulent\n",
    "\"\"\"\n",
    "\n",
    "with GraphDatabase.driver(URI, auth=AUTH) as driver:\n",
    "    driver.verify_connectivity()\n",
    "\n",
    "    with driver.session() as session:\n",
    "        start = time.time()\n",
    "        result_e = session.run(query_e)\n",
    "        print(len([row.data() for row in result_e]))\n",
    "        print('query e time:',time.time() - start)"
   ]
  },
  {
   "cell_type": "markdown",
   "id": "1964c6a8-986d-4d06-a9fe-6b626efd0f6b",
   "metadata": {},
   "source": [
    "## Batch Processing"
   ]
  },
  {
   "cell_type": "code",
   "execution_count": null,
   "id": "5bcd5f61-2c94-4479-a841-77d6d1a4785c",
   "metadata": {},
   "outputs": [],
   "source": [
    "query_dii = \"\"\"\n",
    "            MATCH (c1:Customer)-[:MADE]->(tr1:Transaction)-[:PROCESS]-(t:Terminal)-[:PROCESS]-(tr2:Transaction)-[:MADE]-(c2:Customer)\n",
    "            WITH c1, c2, COUNT(tr1) AS count_tr_c1, COUNT(tr2) AS count_tr_c2,\n",
    "            AVG(tr1.transaction_security) AS avg_c1, AVG(tr2.transaction_security) AS avg_c2\n",
    "            WHERE c1 <> c2 AND count_tr_c1 > 3 AND  count_tr_c2 > 3 AND ABS(avg_c1 - avg_c2) < 1\n",
    "            RETURN c1.customer_id AS c1, c2.customer_id AS c2\n",
    "\"\"\"\n",
    "\n",
    "with GraphDatabase.driver(URI, auth=AUTH) as driver:\n",
    "    driver.verify_connectivity()\n",
    "    with driver.session() as session:\n",
    "        start = time.time()\n",
    "        result = session.run(query_dii)\n",
    "        \n",
    "        customers_ids = list((record[\"c1\"], record[\"c2\"]) for record in result)\n",
    "        BATCH_SIZE = 500\n",
    "        if BATCH_SIZE > len(customers_ids):\n",
    "            BATCH_SIZE = len(customers_ids)\n",
    "\n",
    "        print('Here!!')\n",
    "        for i in range(0, len(records), BATCH_SIZE):\n",
    "            \n",
    "            if i + BATCH_SIZE >= len(customers_ids):\n",
    "                batch = customers_ids[i:]\n",
    "            else:\n",
    "                batch = customers_ids[i:i+BATCH_SIZE]\n",
    "                \n",
    "            records, summary, keys = driver.execute_query(\n",
    "                                                        \"\"\"\n",
    "                                                            UNWIND $batch AS customers\n",
    "                                                            MATCH (c1:Customer {customer_id: toInteger(customers[0])})\n",
    "                                                            MATCH (c2:Customer {customer_id: toInteger(customers[1])})\n",
    "                                                            MERGE (c1)-[:BUYING_FRIENDS]-(c2)\n",
    "                                                        \"\"\",\n",
    "            batch=batch, database_=database\n",
    "            )\n",
    "\n",
    "        print(time.time() - start, 's')"
   ]
  }
 ],
 "metadata": {
  "kernelspec": {
   "display_name": "Python 3 (ipykernel)",
   "language": "python",
   "name": "python3"
  },
  "language_info": {
   "codemirror_mode": {
    "name": "ipython",
    "version": 3
   },
   "file_extension": ".py",
   "mimetype": "text/x-python",
   "name": "python",
   "nbconvert_exporter": "python",
   "pygments_lexer": "ipython3",
   "version": "3.12.2"
  },
  "vscode": {
   "interpreter": {
    "hash": "2e4e47175d9743edc85131739b75dd7248b5bbc9cce2665b5416665eb1890cd7"
   }
  }
 },
 "nbformat": 4,
 "nbformat_minor": 5
}
