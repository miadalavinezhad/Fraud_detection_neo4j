{
 "cells": [
  {
   "cell_type": "markdown",
   "id": "4f0060f1-a751-4843-8f6a-9dcdd69a4955",
   "metadata": {},
   "source": [
    "# Fraud Detection Project"
   ]
  },
  {
   "cell_type": "code",
   "execution_count": 2,
   "id": "b294b487-1b3d-4e71-8b3f-68a413f48b0a",
   "metadata": {},
   "outputs": [],
   "source": [
    "import pandas as pd\n",
    "import numpy as np\n",
    "from datetime import datetime\n",
    "from neo4j import GraphDatabase\n",
    "import time"
   ]
  },
  {
   "cell_type": "code",
   "execution_count": 13,
   "id": "31ec21f1-06d4-4a70-a2d7-a6ae3282553a",
   "metadata": {},
   "outputs": [],
   "source": [
    "URI = \"bolt://localhost:7687/\"\n",
    "AUTH = (\"neo4j\", \"12345678\")"
   ]
  },
  {
   "cell_type": "markdown",
   "id": "567f9a68-4d22-457c-aaef-ed95b35a80c8",
   "metadata": {},
   "source": [
    "## 50MB Dataset"
   ]
  },
  {
   "cell_type": "code",
   "execution_count": 33,
   "id": "5142aece-cc95-42ae-9253-3e68ac114fc8",
   "metadata": {},
   "outputs": [],
   "source": [
    "# Customer 50MB\n",
    "load_customer = \"\"\"\n",
    "    LOAD CSV WITH HEADERS\n",
    "        FROM 'https://media.githubusercontent.com/media/miadalavinezhad/Fraud_detection_neo4j/main/new_datasets/data_sets_50/customer.csv' AS row\n",
    "    CALL {\n",
    "    WITH row\n",
    "    CREATE (c:Customer {customer_id: row.CUSTOMER_ID, \n",
    "                        x_customer_id: row.x_customer_id, \n",
    "                        y_customer_id:  row.y_customer_id, \n",
    "                        mean_amount: row.mean_amount, \n",
    "                        std_amount: row.std_amount, \n",
    "                        mean_nb_tx_per_day: row.mean_nb_tx_per_day, \n",
    "                        available_terminals: row.available_terminals, \n",
    "                        nb_terminals: row.nb_terminals})\n",
    "    } IN TRANSACTIONS OF 200 ROWS\n",
    "    \n",
    "\"\"\""
   ]
  },
  {
   "cell_type": "code",
   "execution_count": 34,
   "id": "0b8f766c-858b-4e99-9b4c-1430df930c11",
   "metadata": {},
   "outputs": [],
   "source": [
    "# Terminal\n",
    "load_terminal = \"\"\"\n",
    "        LOAD CSV WITH HEADERS\n",
    "            FROM 'https://media.githubusercontent.com/media/miadalavinezhad/Fraud_detection_neo4j/main/new_datasets/data_sets_50/terminal.csv' AS row\n",
    "        CALL {\n",
    "        WITH row\n",
    "        CREATE (t:Terminal {terminal_id: row.TERMINAL_ID, \n",
    "                x_terminal_id: row.x_terminal_id, y_terminal_id: row.y_terminal_id})\n",
    "        } IN TRANSACTIONS OF 200 ROWS\n",
    "\"\"\""
   ]
  },
  {
   "cell_type": "code",
   "execution_count": 35,
   "id": "e0038a1a",
   "metadata": {},
   "outputs": [],
   "source": [
    "load_transaction = \"\"\"\n",
    "        LOAD CSV WITH HEADERS\n",
    "            FROM 'https://media.githubusercontent.com/media/miadalavinezhad/Fraud_detection_neo4j/main/new_datasets/data_sets_50/transaction.csv' AS row\n",
    "        CALL {\n",
    "        WITH row\n",
    "        MATCH (c:Customer {customer_id: row.CUSTOMER_ID})\n",
    "        MATCH (t:Terminal {terminal_id: row.TERMINAL_ID})\n",
    "        CREATE (c)-[:MADE]->(tx:Transaction {transaction_id: row.TRANSACTION_ID, \n",
    "                                            transaction_datetime: row.TX_DATETIME, \n",
    "                                            transaction_amount: row.TX_AMOUNT})\n",
    "        CREATE (t)-[:PROCESS]->(tx)\n",
    "        CREATE (c)-[:USE]->(t)\n",
    "        } IN TRANSACTIONS OF 500 ROWS\n",
    "\"\"\""
   ]
  },
  {
   "cell_type": "markdown",
   "id": "2f97ceb6-079f-49fa-9ac8-3b73df8b8278",
   "metadata": {},
   "source": [
    "## 100MB Dataset"
   ]
  },
  {
   "cell_type": "code",
   "execution_count": 121,
   "id": "75095bf8-7666-4d60-82a5-82c9effdb993",
   "metadata": {},
   "outputs": [],
   "source": [
    "# Customer 100MB\n",
    "load_customer = \"\"\"\n",
    "    LOAD CSV WITH HEADERS\n",
    "        FROM 'https://media.githubusercontent.com/media/miadalavinezhad/Fraud_detection_neo4j/main/new_datasets/data_sets_100/customer.csv' AS row\n",
    "    CALL {\n",
    "    WITH row\n",
    "    CREATE (c:Customer {customer_id: row.CUSTOMER_ID, \n",
    "                        x_customer_id: row.x_customer_id, \n",
    "                        y_customer_id:  row.y_customer_id, \n",
    "                        mean_amount: row.mean_amount, \n",
    "                        std_amount: row.std_amount, \n",
    "                        mean_nb_tx_per_day: row.mean_nb_tx_per_day, \n",
    "                        available_terminals: row.available_terminals, \n",
    "                        nb_terminals: row.nb_terminals})\n",
    "    } IN TRANSACTIONS OF 200 ROWS\n",
    "    \n",
    "\"\"\""
   ]
  },
  {
   "cell_type": "code",
   "execution_count": 122,
   "id": "aba7b0b4-bcf8-4fcf-b95d-3a77398f0ab5",
   "metadata": {},
   "outputs": [],
   "source": [
    "# Terminal 100MB\n",
    "load_terminal = \"\"\"\n",
    "        LOAD CSV WITH HEADERS\n",
    "            FROM 'https://media.githubusercontent.com/media/miadalavinezhad/Fraud_detection_neo4j/main/new_datasets/data_sets_100/terminal.csv' AS row\n",
    "        CALL {\n",
    "        WITH row\n",
    "        CREATE (t:Terminal {terminal_id: row.TERMINAL_ID, \n",
    "                x_terminal_id: row.x_terminal_id, y_terminal_id: row.y_terminal_id})\n",
    "        } IN TRANSACTIONS OF 200 ROWS\n",
    "\"\"\""
   ]
  },
  {
   "cell_type": "code",
   "execution_count": 123,
   "id": "fd9aa5bd-88e7-4b93-a714-50ab7c4be088",
   "metadata": {},
   "outputs": [],
   "source": [
    "load_transaction = \"\"\"\n",
    "        LOAD CSV WITH HEADERS\n",
    "            FROM 'https://media.githubusercontent.com/media/miadalavinezhad/Fraud_detection_neo4j/main/new_datasets/data_sets_100/transaction.csv' AS row\n",
    "        CALL {\n",
    "        WITH row\n",
    "        MATCH (c:Customer {customer_id: row.CUSTOMER_ID})\n",
    "        MATCH (t:Terminal {terminal_id: row.TERMINAL_ID})\n",
    "        CREATE (c)-[:MADE]->(tx:Transaction {transaction_id: row.TRANSACTION_ID, \n",
    "                                            transaction_datetime: row.TX_DATETIME, \n",
    "                                            transaction_amount: row.TX_AMOUNT})\n",
    "        CREATE (t)-[:PROCESS]->(tx)\n",
    "        CREATE (c)-[:USE]->(t)\n",
    "        } IN TRANSACTIONS OF 500 ROWS\n",
    "\"\"\""
   ]
  },
  {
   "cell_type": "markdown",
   "id": "65c7d1ca-057d-48e9-bc4e-5f2cce2cb1fc",
   "metadata": {},
   "source": [
    "## 200MB Dataset"
   ]
  },
  {
   "cell_type": "code",
   "execution_count": 133,
   "id": "f270f44b-7ec6-4bf6-b403-69efae79d4c1",
   "metadata": {},
   "outputs": [],
   "source": [
    "# Customer 200MB\n",
    "load_customer = \"\"\"\n",
    "    LOAD CSV WITH HEADERS\n",
    "        FROM 'https://media.githubusercontent.com/media/miadalavinezhad/Fraud_detection_neo4j/main/new_datasets/data_sets_200/customer.csv' AS row\n",
    "    CALL {\n",
    "    WITH row\n",
    "    CREATE (c:Customer {customer_id: row.CUSTOMER_ID, \n",
    "                        x_customer_id: row.x_customer_id, \n",
    "                        y_customer_id:  row.y_customer_id, \n",
    "                        mean_amount: row.mean_amount, \n",
    "                        std_amount: row.std_amount, \n",
    "                        mean_nb_tx_per_day: row.mean_nb_tx_per_day, \n",
    "                        available_terminals: row.available_terminals, \n",
    "                        nb_terminals: row.nb_terminals})\n",
    "    } IN TRANSACTIONS OF 200 ROWS\n",
    "    \n",
    "\"\"\""
   ]
  },
  {
   "cell_type": "code",
   "execution_count": 134,
   "id": "a399e947-65cb-4b27-8c8d-b18e11f82b1f",
   "metadata": {},
   "outputs": [],
   "source": [
    "# Terminal 200MB\n",
    "load_terminal = \"\"\"\n",
    "        LOAD CSV WITH HEADERS\n",
    "            FROM 'https://media.githubusercontent.com/media/miadalavinezhad/Fraud_detection_neo4j/main/new_datasets/data_sets_200/terminal.csv' AS row\n",
    "        CALL {\n",
    "        WITH row\n",
    "        CREATE (t:Terminal {terminal_id: row.TERMINAL_ID, \n",
    "                x_terminal_id: row.x_terminal_id, y_terminal_id: row.y_terminal_id})\n",
    "        } IN TRANSACTIONS OF 200 ROWS\n",
    "\"\"\""
   ]
  },
  {
   "cell_type": "code",
   "execution_count": 135,
   "id": "9c4e2c55-d56d-4631-a3f0-ce6df5de2907",
   "metadata": {},
   "outputs": [],
   "source": [
    "load_transaction = \"\"\"\n",
    "        LOAD CSV WITH HEADERS\n",
    "            FROM 'https://media.githubusercontent.com/media/miadalavinezhad/Fraud_detection_neo4j/main/new_datasets/data_sets_200/transaction.csv' AS row\n",
    "        CALL {\n",
    "        WITH row\n",
    "        MATCH (c:Customer {customer_id: row.CUSTOMER_ID})\n",
    "        MATCH (t:Terminal {terminal_id: row.TERMINAL_ID})\n",
    "        CREATE (c)-[:MADE]->(tx:Transaction {transaction_id: row.TRANSACTION_ID, \n",
    "                                            transaction_datetime: row.TX_DATETIME, \n",
    "                                            transaction_amount: row.TX_AMOUNT})\n",
    "        CREATE (t)-[:PROCESS]->(tx)\n",
    "        CREATE (c)-[:USE]->(t)\n",
    "        } IN TRANSACTIONS OF 500 ROWS\n",
    "\"\"\""
   ]
  },
  {
   "cell_type": "markdown",
   "id": "c1870104-b436-4596-88c9-2ff941a402e4",
   "metadata": {},
   "source": [
    "## Constrains"
   ]
  },
  {
   "cell_type": "code",
   "execution_count": 136,
   "id": "2b6ac016",
   "metadata": {},
   "outputs": [],
   "source": [
    "# Adding unique constraint to ID\n",
    "customer_constraint = \"\"\"\n",
    "                        CREATE CONSTRAINT customer IF NOT EXISTS\n",
    "                        FOR (c:Customer) REQUIRE c.customer_id IS UNIQUE\n",
    "\"\"\"\n",
    "terminal_constraint = \"\"\"\n",
    "                        CREATE CONSTRAINT terminal IF NOT EXISTS\n",
    "                        FOR (t:Terminal) REQUIRE t.terminal_id IS UNIQUE\n",
    "\"\"\"\n",
    "transaction_constraint = \"\"\"\n",
    "                        CREATE CONSTRAINT transaction IF NOT EXISTS\n",
    "                        FOR (tx:Transaction) REQUIRE tx.transaction_id IS UNIQUE\n",
    "\"\"\""
   ]
  },
  {
   "cell_type": "markdown",
   "id": "8bab0e60-9aa2-43f1-8cf4-bc764fb5352b",
   "metadata": {},
   "source": [
    "## Indexing"
   ]
  },
  {
   "cell_type": "code",
   "execution_count": 1,
   "id": "b0168dbb-a624-4362-beb3-fef807467574",
   "metadata": {},
   "outputs": [],
   "source": [
    "indexes = \"\"\"\n",
    "        CREATE INDEX index_customer IF NOT EXISTS \n",
    "        FOR (c:Customer) ON (c.customer_id)\n",
    "        \n",
    "        CREATE INDEX index_terminal IF NOT EXISTS \n",
    "        FOR (t:Terminal) ON (t.terminal_id)\n",
    "        \n",
    "        CREATE INDEX index_transaction IF NOT EXISTS \n",
    "        FOR (tr:Transaction) ON (tr.transaction_id)\n",
    "\"\"\""
   ]
  },
  {
   "cell_type": "markdown",
   "id": "e6ef3a7b-2ea2-449b-a20d-9ccc7546fca0",
   "metadata": {},
   "source": [
    "## Set DB driver"
   ]
  },
  {
   "cell_type": "code",
   "execution_count": 137,
   "id": "ca6a4c79-0d3f-4920-84e9-2d7ba16f4c4a",
   "metadata": {},
   "outputs": [],
   "source": [
    "# Session\n",
    "with GraphDatabase.driver(URI, auth=AUTH) as driver:\n",
    "    driver.verify_connectivity()\n",
    "\n",
    "    with driver.session() as session:\n",
    "        session.run(load_customer).data()\n",
    "        session.run(customer_constraint)\n",
    "\n",
    "        session.run(load_terminal).data()\n",
    "        session.run(terminal_constraint)\n",
    "        \n",
    "        session.run(load_transaction).data()\n",
    "        session.run(transaction_constraint)\n",
    "\n",
    "        session.run(indexes)\n",
    "        "
   ]
  },
  {
   "cell_type": "markdown",
   "id": "559369ad-6757-4fea-908b-ebf18c73ffa2",
   "metadata": {},
   "source": [
    "## Scripts of operations"
   ]
  },
  {
   "cell_type": "code",
   "execution_count": 4,
   "id": "52d82556-f3d5-4dac-a374-6c2c15500b45",
   "metadata": {},
   "outputs": [],
   "source": [
    "query_a = \"\"\"\n",
    "            MATCH (c:Customer)-[:MADE]->(tr:Transaction)\n",
    "            WITH c, datetime(tr.transaction_datetime) AS transactionDate, tr.transaction_amount AS amount\n",
    "            ORDER BY transactionDate DESC\n",
    "            WITH c, COLLECT(transactionDate)[0] AS lastTransactionDate \n",
    "            WITH c, lastTransactionDate.month AS lastMonth\n",
    "            \n",
    "            MATCH (c)-[:MADE]->(tr:Transaction)\n",
    "            WHERE datetime(tr.transaction_datetime).month = lastMonth\n",
    "            WITH c, lastMonth, SUM(toInteger(tr.transaction_amount)) AS lastMonthSpending, COUNT(tr) as lastMonthFrequency\n",
    "            \n",
    "            MATCH (c)-[:MADE]->(tr:Transaction)\n",
    "            WHERE datetime(tr.transaction_datetime).month < lastMonth\n",
    "            WITH c, lastMonthSpending, lastMonthFrequency, (SUM(toInteger(tr.transaction_amount)) / 5) AS usualSpending, (COUNT(tr) / 5) AS usualFrequency\n",
    "            \n",
    "            WHERE lastMonthSpending < usualSpending AND lastMonthFrequency < usualFrequency\n",
    "            RETURN c.customer_id AS customer_id, lastMonthSpending, usualSpending, lastMonthFrequency, usualFrequency;\n",
    "\"\"\"\n",
    "\n",
    "query_b = \"\"\"\n",
    "            MATCH (t:Terminal)-[:PROCESS]->(tr:Transaction)\n",
    "            WITH t, datetime(tr.transaction_datetime) AS transactionDate, tr.transaction_amount AS amount\n",
    "            ORDER BY transactionDate DESC \n",
    "            WITH t, COLLECT(transactionDate)[0] AS lastTransactionDate\n",
    "            WITH t, lastTransactionDate.month AS lastMonth\n",
    "\n",
    "            MATCH (t)-[:PROCESS]->(tr:Transaction)\n",
    "            WHERE datetime(tr.transaction_datetime).month = lastMonth\n",
    "            WITH t, MAX(tr.transaction_amount) AS maxImport, lastMonth\n",
    "\n",
    "            MATCH (t)-[:PROCESS]->(tr:Transaction)\n",
    "            WHERE datetime(tr.transaction_datetime).month = lastMonth\n",
    "            AND toInteger(tr.transaction_amount) > toInteger(maxImport) * 1.2\n",
    "            RETURN t.terminal_id AS terminalId, tr.transaction_id AS transactionId, tr.transaction_amount AS transactionAmount , maxImport, 1.2 * toInteger(maxImport) AS threshold;\n",
    "\n",
    "\"\"\"\n",
    "\n",
    "query_c = \"\"\"\n",
    "            MATCH p=(u1:Customer {customer_id:\"0\"})-[:USE*4]-(u2:Customer) \n",
    "            WHERE u1 <> u2 \n",
    "            RETURN distinct u1.customer_id, u2.customer_id\n",
    "    \"\"\""
   ]
  },
  {
   "cell_type": "code",
   "execution_count": 9,
   "id": "da6de3eb-f462-4da4-a929-88d484027d92",
   "metadata": {},
   "outputs": [
    {
     "name": "stdout",
     "output_type": "stream",
     "text": [
      "6030\n",
      "query a time: 73.22882628440857\n"
     ]
    }
   ],
   "source": [
    "with GraphDatabase.driver(URI, auth=AUTH) as driver:\n",
    "    driver.verify_connectivity()\n",
    "\n",
    "    with driver.session() as session:\n",
    "        start = time.time()\n",
    "        result_a = session.run(query_a)\n",
    "        print(len([row.data() for row in result_a]))\n",
    "        print('query a time:', time.time() - start)"
   ]
  },
  {
   "cell_type": "code",
   "execution_count": 10,
   "id": "6d4574bb-805a-4aaf-b1fc-65d1240a6ca2",
   "metadata": {},
   "outputs": [
    {
     "name": "stdout",
     "output_type": "stream",
     "text": [
      "51792\n",
      "query b time: 86.1496913433075\n"
     ]
    }
   ],
   "source": [
    "# Session\n",
    "with GraphDatabase.driver(URI, auth=AUTH) as driver:\n",
    "    driver.verify_connectivity()\n",
    "\n",
    "    with driver.session() as session:\n",
    "        start = time.time()\n",
    "        result_b = session.run(query_b)\n",
    "        print(len([row.data() for row in result_b]))\n",
    "        print('query b time:',time.time() - start)"
   ]
  },
  {
   "cell_type": "code",
   "execution_count": 11,
   "id": "2f8252d2-4f3c-43eb-97ad-e1783876d1e9",
   "metadata": {},
   "outputs": [
    {
     "name": "stdout",
     "output_type": "stream",
     "text": [
      "1004\n",
      "query c time: 152.69852256774902\n"
     ]
    }
   ],
   "source": [
    "with GraphDatabase.driver(URI, auth=AUTH) as driver:\n",
    "    driver.verify_connectivity()\n",
    "\n",
    "    with driver.session() as session:\n",
    "        start = time.time()\n",
    "        result_c = session.run(query_c)\n",
    "        print(len([row.data() for row in result_c]))\n",
    "        print('query c time:',time.time() - start)"
   ]
  },
  {
   "cell_type": "markdown",
   "id": "392bf13d-abf3-4884-a6b3-1efbbe3f7067",
   "metadata": {},
   "source": [
    "### Extending the Database"
   ]
  },
  {
   "cell_type": "code",
   "execution_count": 19,
   "id": "c67df18e-c48d-4d13-9857-d33355f9aeb6",
   "metadata": {},
   "outputs": [],
   "source": [
    "# query d.i.1\n",
    "def add_time_period(session):\n",
    "    query = \"\"\"\n",
    "            MATCH (tr:Transaction)\n",
    "            CALL {\n",
    "            WITH tr\n",
    "            WITH\n",
    "            CASE\n",
    "                WHEN datetime(tr.transaction_datetime).hour > 5 AND datetime(tr.transaction_datetime).hour <= 12 THEN 'Morning'\n",
    "                WHEN datetime(tr.transaction_datetime).hour > 12 AND datetime(tr.transaction_datetime).hour <= 17 THEN 'Afternoon'\n",
    "                WHEN datetime(tr.transaction_datetime).hour > 17 AND datetime(tr.transaction_datetime).hour <= 21 THEN 'Evening'\n",
    "                ELSE 'Night'\n",
    "            END AS day_period, tr\n",
    "    \n",
    "            SET tr.transaction_period = day_period\n",
    "            } IN TRANSACTIONS OF 500 ROWS\n",
    "    \"\"\"\n",
    "    session.run(query)\n",
    "\n",
    "# query d.i.2\n",
    "def add_product_category(session):\n",
    "    query = \"\"\"\n",
    "            MATCH (tr:Transaction)\n",
    "            CALL {\n",
    "            WITH tr\n",
    "            WITH\n",
    "            CASE\n",
    "                WHEN tr.transaction_amount >= 0 AND tr.transaction_amount < 25 THEN 'Food'\n",
    "                WHEN tr.transaction_amount >= 25 AND tr.transaction_amount < 50 THEN 'Clothing'\n",
    "                WHEN tr.transaction_amount >= 50 AND tr.transaction_amount < 55 THEN 'Consumable'\n",
    "                ELSE 'High-Tech'\n",
    "            END AS category, tr\n",
    "    \n",
    "            SET tr.transaction_category = category\n",
    "            } IN TRANSACTIONS OF 500 ROWS \n",
    "    \"\"\"\n",
    "    \n",
    "    session.run(query)\n",
    "\n",
    "# query d.i.3\n",
    "def add_security(session):\n",
    "    query = \"\"\"\n",
    "            MATCH (tr:Transaction)\n",
    "            CALL {\n",
    "            WITH tr\n",
    "            SET tr.transaction_security = FLOOR(rand() * 5) + 1\n",
    "            } IN TRANSACTIONS OF 500 ROWS\n",
    "    \"\"\"\n",
    "    \n",
    "    session.run(query)\n",
    "\n",
    "\n",
    "# query d.ii \n",
    "def buying_friends(session):\n",
    "    query = \"\"\"\n",
    "            CALL apoc.periodic.iterate(\n",
    "              \"MATCH (c1:Customer)-[:MADE]-(tr1:Transaction)-[:PROCESS]-(t:Terminal)\n",
    "               MATCH (c2:Customer)-[:MADE]-(tr2:Transaction)-[:PROCESS]-(t)\n",
    "               WHERE c1 <> c2\n",
    "               WITH c1, c2, t, \n",
    "                    COLLECT(tr1.transaction_security) AS c1_security_ratings,\n",
    "                    COLLECT(tr2.transaction_security) AS c2_security_ratings\n",
    "               WHERE SIZE(c1_security_ratings) > 3 AND SIZE(c2_security_ratings) > 3\n",
    "               RETURN c1, c2, t, c1_security_ratings, c2_security_ratings\",\n",
    "               \n",
    "              \"WITH c1, c2, c1_security_ratings, c2_security_ratings\n",
    "               WITH c1, c2, \n",
    "                    REDUCE(s = 0.0, x IN c1_security_ratings | s + x) / SIZE(c1_security_ratings) AS c1_avg_security,\n",
    "                    REDUCE(s = 0.0, x IN c2_security_ratings | s + x) / SIZE(c2_security_ratings) AS c2_avg_security\n",
    "               WHERE ABS(c1_avg_security - c2_avg_security) < 1\n",
    "               MERGE (c1)-[:BUYING_FRIENDS]-(c2)\",\n",
    "               \n",
    "              {batchSize: 1000, parallel: false}\n",
    "            );\n",
    "\n",
    "            \n",
    "    \"\"\"\n",
    "    return session.run(query)"
   ]
  },
  {
   "cell_type": "code",
   "execution_count": 13,
   "id": "64681ade-02f8-4429-9620-6b486f502f38",
   "metadata": {},
   "outputs": [
    {
     "name": "stdout",
     "output_type": "stream",
     "text": [
      "332.6114399433136\n"
     ]
    }
   ],
   "source": [
    "# Session query d.i.1\n",
    "with GraphDatabase.driver(URI, auth=AUTH) as driver:\n",
    "    driver.verify_connectivity()\n",
    "    with driver.session() as session:\n",
    "        start = time.time()\n",
    "        add_time_period(session)\n",
    "        print(time.time() - start)"
   ]
  },
  {
   "cell_type": "code",
   "execution_count": 14,
   "id": "7727a754-1d20-4926-bfaf-f069ecf65c5a",
   "metadata": {},
   "outputs": [
    {
     "name": "stdout",
     "output_type": "stream",
     "text": [
      "276.60847449302673\n"
     ]
    }
   ],
   "source": [
    "# Session query d.i.2\n",
    "with GraphDatabase.driver(URI, auth=AUTH) as driver:\n",
    "    driver.verify_connectivity()\n",
    "    with driver.session() as session:\n",
    "        start = time.time()\n",
    "        add_product_category(session)\n",
    "        print(time.time() - start)"
   ]
  },
  {
   "cell_type": "code",
   "execution_count": 15,
   "id": "4a316923-7ef1-4109-8a80-5d0aa814d47f",
   "metadata": {},
   "outputs": [
    {
     "name": "stdout",
     "output_type": "stream",
     "text": [
      "251.35653471946716\n"
     ]
    }
   ],
   "source": [
    "# Session query d.i.3\n",
    "with GraphDatabase.driver(URI, auth=AUTH) as driver:\n",
    "    driver.verify_connectivity()\n",
    "    with driver.session() as session:\n",
    "        start = time.time()\n",
    "        add_security(session)\n",
    "        print(time.time() - start)"
   ]
  },
  {
   "cell_type": "code",
   "execution_count": 17,
   "id": "e556c967-ce1a-40a1-a9c1-f1b0ad14bdcc",
   "metadata": {},
   "outputs": [
    {
     "name": "stdout",
     "output_type": "stream",
     "text": [
      "<neo4j._sync.work.result.Result object at 0x0000018447FE7380>\n",
      "635.7200615406036\n"
     ]
    }
   ],
   "source": [
    "# Session query d.ii\n",
    "with GraphDatabase.driver(URI, auth=AUTH) as driver:\n",
    "    driver.verify_connectivity()\n",
    "    with driver.session() as session:\n",
    "        start = time.time()\n",
    "        r = buying_friends(session) \n",
    "        print(r)\n",
    "    \n",
    "    print(time.time() - start)"
   ]
  },
  {
   "cell_type": "code",
   "execution_count": 18,
   "id": "b5ed12b6-068a-436c-bc8a-195653b80984",
   "metadata": {},
   "outputs": [
    {
     "name": "stdout",
     "output_type": "stream",
     "text": [
      "4\n",
      "query e time: 2.418536901473999\n"
     ]
    }
   ],
   "source": [
    "query_e = \"\"\"\n",
    "            MATCH (tr:Transaction) \n",
    "            WITH tr.transaction_period AS period, COUNT(tr) AS totalTransactions, \n",
    "            AVG(CASE WHEN tr.transaction_security < 3 THEN 1.0 ELSE 0.0 END) AS avgFraudulent\n",
    "            RETURN period, totalTransactions, avgFraudulent\n",
    "\"\"\"\n",
    "\n",
    "with GraphDatabase.driver(URI, auth=AUTH) as driver:\n",
    "    driver.verify_connectivity()\n",
    "\n",
    "    with driver.session() as session:\n",
    "        start = time.time()\n",
    "        result_e = session.run(query_e)\n",
    "        print(len([row.data() for row in result_e]))\n",
    "        print('query e time:',time.time() - start)"
   ]
  },
  {
   "cell_type": "code",
   "execution_count": 22,
   "id": "5ef0d658-2cf1-4e83-9e3b-65a2f36475dc",
   "metadata": {},
   "outputs": [],
   "source": [
    "dataset = pd.read_csv('new_datasets/data_sets_100/transaction.csv')"
   ]
  },
  {
   "cell_type": "code",
   "execution_count": 23,
   "id": "69d4b5f1-c118-434c-b1c4-d4daed418f88",
   "metadata": {},
   "outputs": [
    {
     "data": {
      "text/plain": [
       "(2079080, 7)"
      ]
     },
     "execution_count": 23,
     "metadata": {},
     "output_type": "execute_result"
    }
   ],
   "source": [
    "dataset.shape"
   ]
  }
 ],
 "metadata": {
  "kernelspec": {
   "display_name": "Python 3 (ipykernel)",
   "language": "python",
   "name": "python3"
  },
  "language_info": {
   "codemirror_mode": {
    "name": "ipython",
    "version": 3
   },
   "file_extension": ".py",
   "mimetype": "text/x-python",
   "name": "python",
   "nbconvert_exporter": "python",
   "pygments_lexer": "ipython3",
   "version": "3.12.2"
  },
  "vscode": {
   "interpreter": {
    "hash": "2e4e47175d9743edc85131739b75dd7248b5bbc9cce2665b5416665eb1890cd7"
   }
  }
 },
 "nbformat": 4,
 "nbformat_minor": 5
}
